{
  "nbformat": 4,
  "nbformat_minor": 0,
  "metadata": {
    "kernelspec": {
      "display_name": "Python 3",
      "language": "python",
      "name": "python3"
    },
    "language_info": {
      "codemirror_mode": {
        "name": "ipython",
        "version": 3
      },
      "file_extension": ".py",
      "mimetype": "text/x-python",
      "name": "python",
      "nbconvert_exporter": "python",
      "pygments_lexer": "ipython3",
      "version": "3.7.9"
    },
    "colab": {
      "name": "MINE.ipynb",
      "provenance": []
    },
    "accelerator": "GPU"
  },
  "cells": [
    {
      "cell_type": "markdown",
      "metadata": {
        "id": "cmymkwrB1gd6"
      },
      "source": [
        "# MINE - Mutual Information Neural Estimation (https://arxiv.org/pdf/1801.04062.pdf)\n",
        "\n",
        "This paper hypothesizes that the Mutual Information between two random variables can be estimated  via gradient descend over neural networks.\n",
        "Given two random variables X and Z, the KL divegence between the joint distribution $\\mathbb{P}_{XZ}$ and the product of the marginals $\\mathbb{P}_{X}\\otimes\\mathbb{P}_{Z}$ gives a lower bound two the real value of $I(X;Z)$.\n",
        "\n",
        "There are two formulations to estimate $I(X;Z)$.\n",
        "\n",
        "## Donsker-Varadhan representation\n",
        "\n",
        "$$\\widehat{I(X;Z)} = \\sup_{\\theta \\in \\Theta} \\mathbb{E}_{\\mathbb{P}_{XZ}}[T_{\\theta}] - \\text{log}(\\mathbb{E}_{\\mathbb{P}_{X}\\otimes\\mathbb{P}_{Z}}[e^{T_{\\theta}}])$$\n",
        "\n",
        "## f-Divergence representation\n",
        "\n",
        "$$\\widehat{I(X;Z)} = \\sup_{\\theta \\in \\Theta} \\mathbb{E}_{\\mathbb{P}_{XZ}}[T_{\\theta}] - (\\mathbb{E}_{\\mathbb{P}_{X}\\otimes\\mathbb{P}_{Z}})[e^{T_{\\theta}-1}]$$\n",
        "\n",
        "\n",
        "Bellow we show how to estimate $I(X;Z)$ using both methods and compare with the numerical estimated $I(X;Z)$,\n"
      ]
    },
    {
      "cell_type": "code",
      "metadata": {
        "id": "DAXp7erj1geB"
      },
      "source": [
        "import numpy as np\n",
        "import tensorflow as tf\n",
        "\n",
        "class MineModel(tf.keras.Model):\n",
        "    \"\"\"\n",
        "\n",
        "    Parameters\n",
        "    **********\n",
        "\n",
        "      is_mine_f: bool\n",
        "         If true, will implement MINE-F (equation 6), otherwise will implement equation 5\n",
        "    \"\"\"\n",
        "\n",
        "    def __init__(self, is_mine_f=False, name=\"MINE\", units=10, **kwargs):\n",
        "        super().__init__(name=name, **kwargs)\n",
        "        self.units = units\n",
        "        self.is_mine_f = is_mine_f\n",
        "        \n",
        "        self.transformer_x = tf.keras.layers.Dense(self.units)\n",
        "        self.transformer_z = tf.keras.layers.Dense(self.units)\n",
        "        self.transformer_xz = tf.keras.layers.Dense(self.units)\n",
        "        self.transformer_output = tf.keras.layers.Dense(1)\n",
        "\n",
        "    def call(self, inputs):\n",
        "        def compute(x, z):\n",
        "            h1_x = self.transformer_x(x)\n",
        "            h1_z = self.transformer_z(z)\n",
        "            h1 = tf.keras.layers.ReLU()(h1_x + h1_z)\n",
        "            h2 = self.transformer_output(tf.keras.layers.ReLU()(self.transformer_xz(h1)))\n",
        "\n",
        "            return h2\n",
        "\n",
        "        def compute_lower_bound(x, z):\n",
        "            t_xz = compute(x,z)\n",
        "            z_shuffle = tf.random.shuffle(z)\n",
        "            t_x_z = compute(x, z_shuffle)\n",
        "\n",
        "            if self.is_mine_f:\n",
        "                lb = -(\n",
        "                    tf.reduce_mean(t_xz, axis=0)\n",
        "                    - tf.reduce_mean(tf.math.exp(t_x_z-1))\n",
        "                )\n",
        "            else:\n",
        "                lb = -(\n",
        "                    tf.reduce_mean(t_xz, axis=0)\n",
        "                    - tf.math.log(tf.reduce_mean(tf.math.exp(t_x_z)))\n",
        "                )\n",
        "\n",
        "            self.add_loss(lb)\n",
        "            return lb\n",
        "\n",
        "        x = inputs[0]\n",
        "        z = inputs[1]\n",
        "\n",
        "        return compute_lower_bound(x, z)\n",
        "\n",
        "\n",
        "    def get_config(self):\n",
        "        config = super().get_config()\n",
        "        config.update({\"units\": self.units})\n",
        "        return config\n",
        "\n",
        "\n",
        "\n",
        "from sklearn.feature_selection import mutual_info_regression\n",
        "import matplotlib.pyplot as plt\n",
        "\n",
        "\n",
        "# Defining two random variables\n",
        "N = 10000\n",
        "d = 1\n",
        "EPOCHS = 200\n",
        "\n",
        "\n",
        "X = np.sign(np.random.normal(0.,1.,[N, d]))\n",
        "Z = X + np.random.normal(0.,np.sqrt(0.2),[N, d])\n",
        "\n"
      ],
      "execution_count": 1,
      "outputs": []
    },
    {
      "cell_type": "markdown",
      "metadata": {
        "id": "A0ssXBsM1geD"
      },
      "source": [
        "# Numerical Estimation\n"
      ]
    },
    {
      "cell_type": "code",
      "metadata": {
        "id": "YBEzGDVM1geD",
        "outputId": "7a1c91e6-c102-4550-d8d0-d37bb2f6b050",
        "colab": {
          "base_uri": "https://localhost:8080/"
        }
      },
      "source": [
        "mi_numerical = mutual_info_regression(X.reshape(-1, 1), Z.ravel())[0]\n",
        "print(\"Numerical Estimator\")\n",
        "print(mi_numerical)"
      ],
      "execution_count": 2,
      "outputs": [
        {
          "output_type": "stream",
          "text": [
            "Numerical Estimator\n",
            "0.6590771002387258\n"
          ],
          "name": "stdout"
        }
      ]
    },
    {
      "cell_type": "markdown",
      "metadata": {
        "id": "RMxY6kvB1geF"
      },
      "source": [
        "# Estimation with MINE"
      ]
    },
    {
      "cell_type": "code",
      "metadata": {
        "id": "KXJDQBcf1geH",
        "outputId": "812bfcd0-8e62-41b1-9f4f-5bda15237289",
        "colab": {
          "base_uri": "https://localhost:8080/",
          "height": 265
        }
      },
      "source": [
        "\n",
        "def compute_mine(MINE_F):\n",
        "\n",
        "    model = MineModel(is_mine_f=MINE_F)\n",
        "    model.compile(optimizer=tf.keras.optimizers.Adam(learning_rate=0.01))\n",
        "    callback = model.fit(\n",
        "        x=[X, Z], epochs=EPOCHS, verbose=0, batch_size=100\n",
        "    )\n",
        "\n",
        "    return -np.array(callback.history[\"loss\"])/d\n",
        "\n",
        "# Testing the two implementations\n",
        "mine = compute_mine(False)\n",
        "mine_f = compute_mine(True)\n",
        "\n",
        "plt.Figure()\n",
        "plt.axhline(mi_numerical, label=\"Numerically estimated\", color=\"red\")\n",
        "plt.plot(list(range(EPOCHS)), mine, label=\"mine\", color=\"green\")\n",
        "plt.plot(list(range(EPOCHS)), mine_f, label=\"mine-f\", color=\"blue\")\n",
        "plt.legend()\n",
        "plt.show()\n",
        "\n"
      ],
      "execution_count": 3,
      "outputs": [
        {
          "output_type": "display_data",
          "data": {
            "image/png": "[encoded data removed]",
            "text/plain": [
              "<Figure size 432x288 with 1 Axes>"
            ]
          },
          "metadata": {
            "tags": [],
            "needs_background": "light"
          }
        }
      ]
    },
    {
      "cell_type": "code",
      "metadata": {
        "id": "9BUpZsOo1geI"
      },
      "source": [
        ""
      ],
      "execution_count": null,
      "outputs": []
    }
  ]
}